{
 "cells": [
  {
   "cell_type": "code",
   "execution_count": 1,
   "metadata": {},
   "outputs": [],
   "source": [
    "import pandas as pd"
   ]
  },
  {
   "cell_type": "code",
   "execution_count": 2,
   "metadata": {},
   "outputs": [
    {
     "name": "stdout",
     "output_type": "stream",
     "text": [
      "(568, 31)\n",
      "(461, 10)\n"
     ]
    }
   ],
   "source": [
    "filename1 = '/u/epw9kz/academic/first_year/dataset/project3_dataset1.txt'\n",
    "filename2 = '/u/epw9kz/academic/first_year/dataset/project3_dataset2.txt'\n",
    "\n",
    "df1 = pd.read_csv(filename1, sep=\"\\t\")\n",
    "df2 = pd.read_csv(filename2, sep=\"\\t\")\n",
    "\n",
    "print(df1.shape)\n",
    "print(df2.shape)"
   ]
  },
  {
   "cell_type": "code",
   "execution_count": 3,
   "metadata": {},
   "outputs": [
    {
     "data": {
      "text/plain": [
       "132        0\n",
       "6.20       0\n",
       "6.47       0\n",
       "36.21      0\n",
       "Present    0\n",
       "62         0\n",
       "30.77      0\n",
       "14.14      0\n",
       "45         0\n",
       "0          0\n",
       "dtype: int64"
      ]
     },
     "execution_count": 3,
     "metadata": {},
     "output_type": "execute_result"
    }
   ],
   "source": [
    "df2.isna().sum()"
   ]
  },
  {
   "cell_type": "code",
   "execution_count": null,
   "metadata": {},
   "outputs": [],
   "source": []
  }
 ],
 "metadata": {
  "kernelspec": {
   "display_name": "Python 3",
   "language": "python",
   "name": "python3"
  },
  "language_info": {
   "codemirror_mode": {
    "name": "ipython",
    "version": 3
   },
   "file_extension": ".py",
   "mimetype": "text/x-python",
   "name": "python",
   "nbconvert_exporter": "python",
   "pygments_lexer": "ipython3",
   "version": "3.0.0"
  },
  "orig_nbformat": 4
 },
 "nbformat": 4,
 "nbformat_minor": 2
}
