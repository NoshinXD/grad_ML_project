{
 "cells": [
  {
   "cell_type": "markdown",
   "metadata": {},
   "source": [
    "### Comparison Purpose"
   ]
  },
  {
   "cell_type": "code",
   "execution_count": 2,
   "metadata": {},
   "outputs": [],
   "source": [
    "from data_loader import load_txt\n",
    "\n",
    "from sklearn.svm import SVC\n",
    "\n",
    "from metrics import get_performance_measure, print_metric_score"
   ]
  },
  {
   "cell_type": "markdown",
   "metadata": {},
   "source": [
    "## SVM"
   ]
  },
  {
   "cell_type": "code",
   "execution_count": 7,
   "metadata": {},
   "outputs": [
    {
     "name": "stdout",
     "output_type": "stream",
     "text": [
      "dataset 1\n",
      "SVM linear\n",
      "accuracy: 0.9736842105263158\n",
      "precison: 0.9777777777777777\n",
      "recall: 0.9565217391304348\n",
      "f1: 0.967032967032967\n",
      "auc: 0.9980818414322251\n",
      "SVM rbf\n",
      "accuracy: 0.9736842105263158\n",
      "precison: 0.9777777777777777\n",
      "recall: 0.9565217391304348\n",
      "f1: 0.967032967032967\n",
      "auc: 0.9980818414322251\n"
     ]
    }
   ],
   "source": [
    "print('dataset 1')\n",
    "X_train, X_test, y_train, y_test = load_txt(1) \n",
    "clf = SVC(kernel='linear', probability=True)\n",
    "clf.fit(X_train, y_train)\n",
    "y_pred = clf.predict(X_test)\n",
    "y_pred_proba = clf.predict_proba(X_test)\n",
    "\n",
    "accuracy, precison, recall, f1, auc = get_performance_measure(y_test, y_pred, y_pred_proba[:, 1])\n",
    "print_metric_score('SVM linear', accuracy, precison, recall, f1, auc)\n",
    "\n",
    "clf = SVC(kernel='rbf', probability=True)\n",
    "clf.fit(X_train, y_train)\n",
    "y_pred = clf.predict(X_test)\n",
    "y_pred_proba = clf.predict_proba(X_test)\n",
    "\n",
    "accuracy, precison, recall, f1, auc = get_performance_measure(y_test, y_pred, y_pred_proba[:, 1])\n",
    "print_metric_score('SVM rbf', accuracy, precison, recall, f1, auc)"
   ]
  },
  {
   "cell_type": "code",
   "execution_count": 8,
   "metadata": {},
   "outputs": [
    {
     "name": "stdout",
     "output_type": "stream",
     "text": [
      "dataset 2\n",
      "SVM linear\n",
      "accuracy: 0.7311827956989247\n",
      "precison: 0.5151515151515151\n",
      "recall: 0.6538461538461539\n",
      "f1: 0.576271186440678\n",
      "auc: 0.7933409873708381\n",
      "SVM rbf\n",
      "accuracy: 0.7526881720430108\n",
      "precison: 0.56\n",
      "recall: 0.5384615384615384\n",
      "f1: 0.5490196078431373\n",
      "auc: 0.7910447761194029\n"
     ]
    }
   ],
   "source": [
    "print('dataset 2')\n",
    "X_train, X_test, y_train, y_test = load_txt(2) \n",
    "clf = SVC(kernel='linear', probability=True)\n",
    "clf.fit(X_train, y_train)\n",
    "y_pred = clf.predict(X_test)\n",
    "y_pred_proba = clf.predict_proba(X_test)\n",
    "\n",
    "accuracy, precison, recall, f1, auc = get_performance_measure(y_test, y_pred, y_pred_proba[:, 1])\n",
    "print_metric_score('SVM linear', accuracy, precison, recall, f1, auc)\n",
    "\n",
    "clf = SVC(kernel='rbf', probability=True)\n",
    "clf.fit(X_train, y_train)\n",
    "y_pred = clf.predict(X_test)\n",
    "y_pred_proba = clf.predict_proba(X_test)\n",
    "\n",
    "accuracy, precison, recall, f1, auc = get_performance_measure(y_test, y_pred, y_pred_proba[:, 1])\n",
    "print_metric_score('SVM rbf', accuracy, precison, recall, f1, auc)"
   ]
  },
  {
   "cell_type": "code",
   "execution_count": null,
   "metadata": {},
   "outputs": [],
   "source": []
  }
 ],
 "metadata": {
  "kernelspec": {
   "display_name": "Python 3",
   "language": "python",
   "name": "python3"
  },
  "language_info": {
   "codemirror_mode": {
    "name": "ipython",
    "version": 3
   },
   "file_extension": ".py",
   "mimetype": "text/x-python",
   "name": "python",
   "nbconvert_exporter": "python",
   "pygments_lexer": "ipython3",
   "version": "3.10.12"
  }
 },
 "nbformat": 4,
 "nbformat_minor": 2
}
