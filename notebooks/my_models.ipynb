{
 "cells": [
  {
   "cell_type": "code",
   "execution_count": 11,
   "metadata": {},
   "outputs": [],
   "source": [
    "# importing built in packages\n",
    "\n",
    "# importing my classes\n",
    "# from LogisticRegression import LogisticRegression\n",
    "from SVM import SVM\n",
    "from RandomForest import RandomForest\n",
    "\n",
    "from mnist_loader import load_data\n",
    "from data_loader import load_txt\n",
    "from metrics import get_performance_measure, print_metric_score"
   ]
  },
  {
   "cell_type": "markdown",
   "metadata": {},
   "source": [
    "## SVM"
   ]
  },
  {
   "cell_type": "code",
   "execution_count": 12,
   "metadata": {},
   "outputs": [
    {
     "name": "stdout",
     "output_type": "stream",
     "text": [
      "SVM linear\n",
      "accuracy: 0.9649122807017544\n",
      "precison: 0.9772727272727273\n",
      "recall: 0.9347826086956522\n",
      "f1: 0.9555555555555557\n",
      "auc: 0.9968030690537084\n",
      "SVM linear\n",
      "accuracy: 0.7634408602150538\n",
      "precison: 0.5666666666666667\n",
      "recall: 0.6538461538461539\n",
      "f1: 0.6071428571428571\n",
      "auc: 0.7795637198622273\n"
     ]
    }
   ],
   "source": [
    "X_train, X_test, y_train, y_test = load_txt(1) \n",
    "\n",
    "clf = SVM(n_iter_=1000)\n",
    "clf.fit(X_train, y_train)\n",
    "y_pred = clf.predict(X_test)\n",
    "y_pred_proba = clf.predict(X_test, probability=True)\n",
    "# y_pred_proba = clf.predict_proba(X_test)\n",
    "\n",
    "accuracy, precison, recall, f1, auc = get_performance_measure(y_test, y_pred, y_pred_proba)\n",
    "print_metric_score('SVM linear', accuracy, precison, recall, f1, auc)\n",
    "\n",
    "# ---------------------------------------------------------\n",
    "\n",
    "X_train, X_test, y_train, y_test = load_txt(2) \n",
    "\n",
    "clf = SVM(n_iter_=1000)\n",
    "clf.fit(X_train, y_train)\n",
    "y_pred = clf.predict(X_test)\n",
    "y_pred_proba = clf.predict(X_test, probability=True)\n",
    "# y_pred_proba = clf.predict_proba(X_test)\n",
    "\n",
    "accuracy, precison, recall, f1, auc = get_performance_measure(y_test, y_pred, y_pred_proba)\n",
    "print_metric_score('SVM linear', accuracy, precison, recall, f1, auc)"
   ]
  },
  {
   "cell_type": "markdown",
   "metadata": {},
   "source": [
    "## Random Forest"
   ]
  },
  {
   "cell_type": "code",
   "execution_count": 8,
   "metadata": {},
   "outputs": [
    {
     "name": "stdout",
     "output_type": "stream",
     "text": [
      "random forest\n",
      "accuracy: 0.956140350877193\n",
      "precison: 0.9361702127659575\n",
      "recall: 0.9565217391304348\n",
      "f1: 0.9462365591397849\n",
      "auc: 0.9936061381074168\n",
      "random forest\n",
      "accuracy: 0.6774193548387096\n",
      "precison: 0.4411764705882353\n",
      "recall: 0.5769230769230769\n",
      "f1: 0.5\n",
      "auc: 0.7399540757749713\n"
     ]
    }
   ],
   "source": [
    "X_train, X_test, y_train, y_test = load_txt(1) \n",
    "\n",
    "clf = RandomForest()\n",
    "clf.fit(X_train, y_train)\n",
    "y_pred = clf.predict(X_test)\n",
    "y_pred_proba = clf.predict(X_test, probability=True)\n",
    "# y_pred_proba = clf.predict_proba(X_test)\n",
    "\n",
    "accuracy, precison, recall, f1, auc = get_performance_measure(y_test, y_pred, y_pred_proba)\n",
    "print_metric_score('random forest', accuracy, precison, recall, f1, auc)\n",
    "\n",
    "# ---------------------------------------------------------\n",
    "\n",
    "X_train, X_test, y_train, y_test = load_txt(2) \n",
    "\n",
    "clf = RandomForest()\n",
    "clf.fit(X_train, y_train)\n",
    "y_pred = clf.predict(X_test)\n",
    "y_pred_proba = clf.predict(X_test, probability=True)\n",
    "# y_pred_proba = clf.predict_proba(X_test)\n",
    "\n",
    "accuracy, precison, recall, f1, auc = get_performance_measure(y_test, y_pred, y_pred_proba)\n",
    "print_metric_score('random forest', accuracy, precison, recall, f1, auc)"
   ]
  },
  {
   "cell_type": "code",
   "execution_count": null,
   "metadata": {},
   "outputs": [],
   "source": []
  }
 ],
 "metadata": {
  "kernelspec": {
   "display_name": "Python 3",
   "language": "python",
   "name": "python3"
  },
  "language_info": {
   "codemirror_mode": {
    "name": "ipython",
    "version": 3
   },
   "file_extension": ".py",
   "mimetype": "text/x-python",
   "name": "python",
   "nbconvert_exporter": "python",
   "pygments_lexer": "ipython3",
   "version": "3.10.12"
  }
 },
 "nbformat": 4,
 "nbformat_minor": 2
}
