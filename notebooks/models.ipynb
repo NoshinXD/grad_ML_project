{
 "cells": [
  {
   "cell_type": "code",
   "execution_count": 2,
   "metadata": {},
   "outputs": [],
   "source": [
    "# importing built in packages\n",
    "from sklearn.model_selection import train_test_split \n",
    "\n",
    "# importing my classes\n",
    "from LogisticRegression import LogisticRegression\n",
    "\n",
    "from mnist_loader import load_data"
   ]
  },
  {
   "cell_type": "code",
   "execution_count": null,
   "metadata": {},
   "outputs": [
    {
     "name": "stdout",
     "output_type": "stream",
     "text": [
      "fit from logistic regression...\n",
      "predict from logistic regression\n"
     ]
    }
   ],
   "source": [
    "# logistic regression\n",
    "\n",
    "import seaborn as sns\n",
    "\n",
    "# Load the 'tips' dataset\n",
    "tips = sns.load_dataset('tips')\n",
    "# print(tips.head())\n",
    "X = tips.drop('size', axis=1)  \n",
    "y = tips['size']  \n",
    "\n",
    "X_train, X_test, y_train, y_test = train_test_split(X,y , \n",
    "                                   random_state=104,  \n",
    "                                   test_size=0.25,  \n",
    "                                   shuffle=True)\n",
    "\n",
    "\n",
    "logreg = LogisticRegression()\n",
    "logreg.fit(X_train, y_train)\n",
    "logreg.predict(X_test)"
   ]
  },
  {
   "cell_type": "code",
   "execution_count": 3,
   "metadata": {},
   "outputs": [
    {
     "name": "stdout",
     "output_type": "stream",
     "text": [
      "(2, 50000)\n",
      "(2, 10000)\n",
      "(2, 10000)\n"
     ]
    }
   ],
   "source": [
    "training_data, validation_data, test_data = load_data()\n",
    "# print(type(training_data))\n",
    "shape = (len(training_data), len(training_data[0]))\n",
    "print(shape)  # Output: (3, 2)\n",
    "shape = (len(validation_data), len(validation_data[0]))\n",
    "print(shape)  # Output: (3, 2)\n",
    "shape = (len(test_data), len(test_data[0]))\n",
    "print(shape)  # Output: (3, 2)"
   ]
  },
  {
   "cell_type": "code",
   "execution_count": null,
   "metadata": {},
   "outputs": [],
   "source": []
  },
  {
   "cell_type": "code",
   "execution_count": null,
   "metadata": {},
   "outputs": [],
   "source": []
  },
  {
   "cell_type": "code",
   "execution_count": null,
   "metadata": {},
   "outputs": [],
   "source": []
  }
 ],
 "metadata": {
  "kernelspec": {
   "display_name": "Python 3",
   "language": "python",
   "name": "python3"
  },
  "language_info": {
   "codemirror_mode": {
    "name": "ipython",
    "version": 3
   },
   "file_extension": ".py",
   "mimetype": "text/x-python",
   "name": "python",
   "nbconvert_exporter": "python",
   "pygments_lexer": "ipython3",
   "version": "3.10.12"
  }
 },
 "nbformat": 4,
 "nbformat_minor": 2
}
