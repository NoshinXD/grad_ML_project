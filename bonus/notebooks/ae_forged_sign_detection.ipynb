{
 "cells": [
  {
   "cell_type": "code",
   "execution_count": 1,
   "metadata": {},
   "outputs": [
    {
     "name": "stderr",
     "output_type": "stream",
     "text": [
      "2023-12-12 12:23:57.632043: I tensorflow/core/util/port.cc:113] oneDNN custom operations are on. You may see slightly different numerical results due to floating-point round-off errors from different computation orders. To turn them off, set the environment variable `TF_ENABLE_ONEDNN_OPTS=0`.\n",
      "2023-12-12 12:23:57.683905: E external/local_xla/xla/stream_executor/cuda/cuda_dnn.cc:9261] Unable to register cuDNN factory: Attempting to register factory for plugin cuDNN when one has already been registered\n",
      "2023-12-12 12:23:57.683936: E external/local_xla/xla/stream_executor/cuda/cuda_fft.cc:607] Unable to register cuFFT factory: Attempting to register factory for plugin cuFFT when one has already been registered\n",
      "2023-12-12 12:23:57.685160: E external/local_xla/xla/stream_executor/cuda/cuda_blas.cc:1515] Unable to register cuBLAS factory: Attempting to register factory for plugin cuBLAS when one has already been registered\n",
      "2023-12-12 12:23:57.693557: I tensorflow/core/platform/cpu_feature_guard.cc:182] This TensorFlow binary is optimized to use available CPU instructions in performance-critical operations.\n",
      "To enable the following instructions: AVX2 AVX512F AVX512_VNNI FMA, in other operations, rebuild TensorFlow with the appropriate compiler flags.\n",
      "2023-12-12 12:23:59.623526: W tensorflow/compiler/tf2tensorrt/utils/py_utils.cc:38] TF-TRT Warning: Could not find TensorRT\n"
     ]
    }
   ],
   "source": [
    "import pandas as pd\n",
    "import numpy as np\n",
    "import pickle\n",
    "import matplotlib.pyplot as plt\n",
    "from scipy import stats\n",
    "import tensorflow as tf\n",
    "import seaborn as sns\n",
    "from pylab import rcParams\n",
    "from sklearn.model_selection import train_test_split\n",
    "from keras.models import Model, load_model\n",
    "from keras.layers import Input, Dense\n",
    "from keras.callbacks import ModelCheckpoint, TensorBoard\n",
    "from keras import regularizers\n",
    "import os\n",
    "\n",
    "from keras.preprocessing.image import ImageDataGenerator\n",
    "\n",
    "from tensorflow import keras\n",
    "from tensorflow.keras import layers\n",
    "from tensorflow.keras.layers import Input, Add, Multiply, Subtract, Dense, Activation, ZeroPadding2D, BatchNormalization, Flatten, Conv2D, AveragePooling2D, Dropout, MaxPooling2D, GlobalMaxPooling2D\n",
    "from tensorflow.keras.layers import Dense, Dropout, Input, Lambda, Flatten, Convolution2D, MaxPooling2D, ZeroPadding2D, Reshape\n",
    "from tensorflow.keras.regularizers import l2\n",
    "from tensorflow.keras.models import Model, load_model, Sequential\n",
    "from tensorflow.keras.preprocessing import image\n",
    "# from tensorflow.keras.utils import layer_utils\n",
    "# from keras.utils.data_utils import get_file\n",
    "from keras.applications.imagenet_utils import preprocess_input\n",
    "\n",
    "%matplotlib inline\n",
    "\n",
    "from IPython.display import SVG\n",
    "# from keras.utils.vis_utils import model_to_dot\n",
    "# from keras.utils import plot_model\n",
    "#from resnets_utils import *\n",
    "from keras.initializers import glorot_uniform, he_normal\n",
    "import scipy.misc\n",
    "from matplotlib.pyplot import imshow\n",
    "import matplotlib.pyplot as plt\n",
    "%matplotlib inline\n",
    "import keras.backend as K\n",
    "K.set_image_data_format('channels_last') \n",
    "# K.set_learning_phase(1) \n",
    "import scipy\n",
    "import cv2\n",
    "from keras.layers import subtract\n",
    "import keras\n",
    "from keras.layers import Lambda\n",
    "import tensorflow as tf \n",
    "from tensorflow.keras.optimizers import Adam,RMSprop \n",
    "\n",
    "from tensorflow import image\n",
    "from tensorflow.keras.utils import *\n",
    "\n",
    "from PIL import Image,ImageOps\n",
    "\n",
    "import pickle\n",
    "import matplotlib.pyplot as plt\n",
    "from scipy import stats\n",
    "import tensorflow as tf\n",
    "import seaborn as sns\n",
    "from pylab import rcParams\n",
    "from sklearn.model_selection import train_test_split\n",
    "from keras.models import Model, load_model\n",
    "from keras.layers import Input, Dense\n",
    "from keras.callbacks import ModelCheckpoint, TensorBoard\n",
    "from keras import regularizers\n",
    "\n",
    "RANDOM_SEED = 42\n",
    "LABELS = [\"genunine\", \"forged\"]"
   ]
  },
  {
   "cell_type": "code",
   "execution_count": 2,
   "metadata": {},
   "outputs": [],
   "source": [
    "SIZE=(220,155)\n",
    "# input_shape=(155,230,3)"
   ]
  },
  {
   "cell_type": "code",
   "execution_count": 3,
   "metadata": {},
   "outputs": [],
   "source": [
    "def preprocess(img_input):\n",
    "\timg_input=cv2.resize(img_input,SIZE,interpolation=cv2.INTER_LINEAR)\n",
    "\n",
    "\t# ------------------------------\n",
    "\t#Only black or white pixels\n",
    "\tbw_pixels = np.where(img_input < 128, 0, 255)\n",
    "\tbw_image = bw_pixels.reshape((155, 220))\n",
    "\timg_input = bw_image\n",
    "\t# Rescaling the intensity\n",
    "\tpmin, pmax = img_input.min(), img_input.max()\n",
    "\tif pmin == pmax or np.isnan(pmin) or np.isnan(pmax):\n",
    "\t\trescaled_image = img_input  # or set it to a default value\n",
    "\telse:\n",
    "\t\trescaled_image = 255 * (img_input - pmin) / (pmax - pmin)\n",
    "\trescaled_pixels = rescaled_image.flatten()\n",
    "\timg_input = rescaled_pixels\n",
    "\t# ------------------------------\n",
    "\n",
    "\timg_input=img_input/255\n",
    "\n",
    "\timg_input = img_input.reshape(-1, SIZE[1], SIZE[0])\n",
    "\n",
    "\treturn img_input"
   ]
  },
  {
   "cell_type": "markdown",
   "metadata": {},
   "source": [
    "## Load Data"
   ]
  },
  {
   "cell_type": "code",
   "execution_count": 16,
   "metadata": {},
   "outputs": [
    {
     "name": "stdout",
     "output_type": "stream",
     "text": [
      "img x (155, 220, 1)\n"
     ]
    }
   ],
   "source": [
    "# org_list_1=[]\n",
    "# for i in range(55):\n",
    "#     p=[]\n",
    "#     for j in range(24):\n",
    "#         img_path = '/u/epw9kz/academic/first_year/ML/project/bonus/dataset/2_CEDAR/signatures/full_forg/forgeries_'+str(i+1) +'_' +str(j+1)+'.png'\n",
    "#         img = load_img(img_path,target_size=(155,220), color_mode='grayscale') \n",
    "#         x = img_to_array(img)\n",
    "#         if i == 0 and j == 0:\n",
    "#             print('img x', x.shape)\n",
    "#             break"
   ]
  },
  {
   "cell_type": "code",
   "execution_count": 4,
   "metadata": {},
   "outputs": [
    {
     "name": "stdout",
     "output_type": "stream",
     "text": [
      "55\n",
      "55\n",
      "(55, 24, 155, 220)\n",
      "(55, 24, 155, 220)\n",
      "(1320, 155, 220)\n",
      "(1320, 155, 220)\n"
     ]
    }
   ],
   "source": [
    "# data augmantation\n",
    "data_gen = ImageDataGenerator(\n",
    "    rotation_range=15,  # Random rotation between -15 to +15 degrees\n",
    "    width_shift_range=0.1,  # Randomly zoom image horizontally by 10%\n",
    "    height_shift_range=0.1,  # Randomly zoom image vertically by 10%\n",
    "    zoom_range=0.2,  # Randomly zoom image in and out by 20%\n",
    "    fill_mode='nearest'  # Strategy for filling in newly created pixels\n",
    ")\n",
    "\n",
    "forg_list_1=[]\n",
    "for i in range(55):\n",
    "    p=[]\n",
    "    for j in range(24):\n",
    "        img_path = '/u/epw9kz/academic/first_year/ML_bonus/bonus/dataset/2_CEDAR/signatures/full_forg/forgeries_'+str(i+1) +'_' +str(j+1)+'.png'\n",
    "        # img = load_img(img_path, color_mode = \"grayscale\", target_size=(155,220)) \n",
    "        img = load_img(img_path, color_mode = \"grayscale\", target_size=(155,220)) \n",
    "        x = img_to_array(img)\n",
    "        x=preprocess(x)\n",
    "        p.append(x)\n",
    "    forg_list_1.append(p)\n",
    "\n",
    "org_list_1=[]\n",
    "for i in range(55):\n",
    "    p=[]\n",
    "    for j in range(24):\n",
    "        img_path = '/u/epw9kz/academic/first_year/ML_bonus/bonus/dataset/2_CEDAR/signatures/full_org/original_'+str(i+1) +'_' +str(j+1)+'.png'\n",
    "        img = load_img(img_path, color_mode = \"grayscale\", target_size=(155,220)) \n",
    "        x = img_to_array(img)\n",
    "        x=preprocess(x)\n",
    "        # print('x', x.shape)\n",
    "        \n",
    "        # x = np.expand_dims(x, axis=-1) # Reshape to 4D for compatibility with ImageDataGenerator\n",
    "        # # print('x', x.shape)\n",
    "        # it = data_gen.flow(x, batch_size=1) # Perform augmentation\n",
    "        # batch = it.next()\n",
    "        # image_augmented = batch[0]\n",
    "        \n",
    "        p.append(x)\n",
    "    org_list_1.append(p)\n",
    "\n",
    "print(len(forg_list_1))\n",
    "print(len(org_list_1))\n",
    "\n",
    "frauds = np.asarray(forg_list_1)\n",
    "normal = np.asarray(org_list_1)\n",
    "\n",
    "frauds = np.squeeze(frauds)\n",
    "normal = np.squeeze(normal)\n",
    "\n",
    "print(frauds.shape)\n",
    "print(normal.shape)\n",
    "\n",
    "frauds = frauds.reshape(-1, SIZE[1], SIZE[0])\n",
    "normal = normal.reshape(-1, SIZE[1], SIZE[0])\n",
    "\n",
    "print(frauds.shape)\n",
    "print(normal.shape)"
   ]
  },
  {
   "cell_type": "code",
   "execution_count": 5,
   "metadata": {},
   "outputs": [
    {
     "name": "stdout",
     "output_type": "stream",
     "text": [
      "(55, 24, 34100)\n",
      "(55, 24, 34100)\n",
      "(1320, 155, 220)\n",
      "(1320, 155, 220)\n"
     ]
    }
   ],
   "source": [
    "# frauds = np.asarray(forg_list_1)\n",
    "# normal = np.asarray(org_list_1)\n",
    "\n",
    "# print(frauds.shape)\n",
    "# print(normal.shape)\n",
    "\n",
    "# frauds = frauds.reshape(-1, SIZE[1], SIZE[0])\n",
    "# normal = normal.reshape(-1, SIZE[1], SIZE[0])\n",
    "\n",
    "# print(frauds.shape)\n",
    "# print(normal.shape)"
   ]
  },
  {
   "cell_type": "markdown",
   "metadata": {},
   "source": [
    "## Preparing the Data"
   ]
  },
  {
   "cell_type": "markdown",
   "metadata": {},
   "source": [
    "### test data with only normal signs"
   ]
  },
  {
   "cell_type": "code",
   "execution_count": 84,
   "metadata": {},
   "outputs": [
    {
     "name": "stdout",
     "output_type": "stream",
     "text": [
      "unseen test data (1452, 155, 220) (1452,)\n",
      "--------******   valid dist (66, 155, 220) (191, 155, 220)\n",
      "train data (762, 155, 220)\n",
      "validation data (257, 155, 220) (257,)\n",
      "test data (169, 155, 220)\n"
     ]
    }
   ],
   "source": [
    "working_X_train_frauds, reserved_X_test_frauds = train_test_split(frauds, test_size=0.95, random_state=RANDOM_SEED)\n",
    "working_X_train_normal, reserved_X_test_normal = train_test_split(normal, test_size=0.15, random_state=RANDOM_SEED)\n",
    "\n",
    "# preparing unseend test data (fraud + normal)\n",
    "reserved_X_test = np.concatenate([reserved_X_test_frauds, reserved_X_test_normal])\n",
    "frauds_length = len(reserved_X_test_frauds)\n",
    "normal_length = len(reserved_X_test_normal)\n",
    "reserved_y_test = np.concatenate([np.ones(frauds_length), np.zeros(normal_length)])\n",
    "\n",
    "indices = np.arange(len(reserved_X_test))\n",
    "np.random.shuffle(indices)\n",
    "reserved_X_test = reserved_X_test[indices]\n",
    "reserved_y_test = reserved_y_test[indices]\n",
    "\n",
    "print('unseen test data', reserved_X_test.shape, reserved_y_test.shape)\n",
    "\n",
    "# preparing train (only normal), test (only normal), validation (fraud + normal) data\n",
    "X_valid_train_normal, X_test = train_test_split(working_X_train_normal, test_size=0.15, random_state=RANDOM_SEED)\n",
    "\n",
    "X_valid_frauds = working_X_train_frauds\n",
    "X_train, X_valid_normal = train_test_split(X_valid_train_normal, test_size=0.2, random_state=RANDOM_SEED)\n",
    "print('--------******   valid dist', X_valid_frauds.shape, X_valid_normal.shape)\n",
    "\n",
    "X_valid = np.concatenate([X_valid_frauds, X_valid_normal])\n",
    "frauds_length = len(X_valid_frauds)\n",
    "normal_length = len(X_valid_normal)\n",
    "y_valid = np.concatenate([np.ones(frauds_length), np.zeros(normal_length)])\n",
    "\n",
    "indices = np.arange(len(X_valid))\n",
    "np.random.shuffle(indices)\n",
    "X_valid = X_valid[indices]\n",
    "y_valid= y_valid[indices]\n",
    "\n",
    "print('train data', X_train.shape)\n",
    "print('validation data', X_valid.shape, y_valid.shape)\n",
    "print('test data', X_test.shape)"
   ]
  },
  {
   "cell_type": "markdown",
   "metadata": {},
   "source": [
    "### Test data with normal and forged signs"
   ]
  },
  {
   "cell_type": "code",
   "execution_count": 5,
   "metadata": {},
   "outputs": [
    {
     "name": "stdout",
     "output_type": "stream",
     "text": [
      "unseen test data (1386, 155, 220) (1386,)\n",
      "--------******   test dist (53, 155, 220) (169, 155, 220)\n",
      "--------******   valid dist (79, 155, 220) (191, 155, 220)\n",
      "train data (762, 155, 220, 1)\n",
      "validation data (270, 155, 220, 1) (270,)\n",
      "test data (222, 155, 220, 1) (222,)\n"
     ]
    }
   ],
   "source": [
    "working_X_train_frauds, reserved_X_test_frauds = train_test_split(frauds, test_size=0.90, random_state=RANDOM_SEED)\n",
    "working_X_train_normal, reserved_X_test_normal = train_test_split(normal, test_size=0.15, random_state=RANDOM_SEED)\n",
    "\n",
    "# preparing unseend test data (fraud + normal)\n",
    "reserved_X_test = np.concatenate([reserved_X_test_frauds, reserved_X_test_normal])\n",
    "frauds_length = len(reserved_X_test_frauds)\n",
    "normal_length = len(reserved_X_test_normal)\n",
    "reserved_y_test = np.concatenate([np.ones(frauds_length), np.zeros(normal_length)])\n",
    "\n",
    "indices = np.arange(len(reserved_X_test))\n",
    "np.random.shuffle(indices)\n",
    "reserved_X_test = reserved_X_test[indices]\n",
    "reserved_y_test = reserved_y_test[indices]\n",
    "\n",
    "print('unseen test data', reserved_X_test.shape, reserved_y_test.shape)\n",
    "\n",
    "# preparing train (only normal), test (fraud + normal), validation (fraud + normal) data\n",
    "X_valid_frauds, X_test_frauds = train_test_split(working_X_train_frauds, test_size=0.40, random_state=RANDOM_SEED)\n",
    "X_valid_train_normal, X_test_normal = train_test_split(working_X_train_normal, test_size=0.15, random_state=RANDOM_SEED)\n",
    "print('--------******   test dist', X_test_frauds.shape, X_test_normal.shape)\n",
    "\n",
    "X_test = np.concatenate([X_test_frauds, X_test_normal])\n",
    "frauds_length = len(X_test_frauds)\n",
    "normal_length = len(X_test_normal)\n",
    "y_test = np.concatenate([np.ones(frauds_length), np.zeros(normal_length)])\n",
    "\n",
    "indices = np.arange(len(X_test))\n",
    "np.random.shuffle(indices)\n",
    "X_test = X_test[indices]\n",
    "y_test= y_test[indices]\n",
    "\n",
    "X_train, X_valid_normal = train_test_split(X_valid_train_normal, test_size=0.2, random_state=RANDOM_SEED)\n",
    "print('--------******   valid dist', X_valid_frauds.shape, X_valid_normal.shape)\n",
    "\n",
    "X_valid = np.concatenate([X_valid_frauds, X_valid_normal])\n",
    "frauds_length = len(X_valid_frauds)\n",
    "normal_length = len(X_valid_normal)\n",
    "y_valid = np.concatenate([np.ones(frauds_length), np.zeros(normal_length)])\n",
    "\n",
    "indices = np.arange(len(X_valid))\n",
    "np.random.shuffle(indices)\n",
    "X_valid = X_valid[indices]\n",
    "y_valid= y_valid[indices]\n",
    "\n",
    "X_train = X_train.reshape(X_train.shape[0], X_train.shape[1], X_train.shape[2], 1)\n",
    "X_valid = X_valid.reshape(X_valid.shape[0], X_valid.shape[1], X_valid.shape[2], 1)\n",
    "X_test = X_test.reshape(X_test.shape[0], X_test.shape[1], X_test.shape[2], 1)\n",
    "reserved_X_test = reserved_X_test.reshape(reserved_X_test.shape[0], reserved_X_test.shape[1], reserved_X_test.shape[2], 1)\n",
    "\n",
    "print('train data', X_train.shape)\n",
    "print('validation data', X_valid.shape, y_valid.shape)\n",
    "print('test data', X_test.shape, y_test.shape)"
   ]
  },
  {
   "cell_type": "markdown",
   "metadata": {},
   "source": [
    "## Building the Model"
   ]
  },
  {
   "cell_type": "markdown",
   "metadata": {},
   "source": [
    "### dense NN"
   ]
  },
  {
   "cell_type": "code",
   "execution_count": 32,
   "metadata": {},
   "outputs": [],
   "source": [
    "input_dim = X_train.shape[1:]\n",
    "flattened_input_shape = np.prod(input_dim)  \n",
    "encoding_dim = 14\n",
    "\n",
    "input_layer = Input(shape=input_dim)\n",
    "\n",
    "flattened_layer = Flatten()(input_layer)\n",
    "\n",
    "encoder = Dense(encoding_dim, activation=\"tanh\", activity_regularizer=regularizers.l1(10e-5))(flattened_layer)\n",
    "encoder = Dense(int(encoding_dim / 2), activation=\"tanh\", activity_regularizer=regularizers.l1(10e-5))(encoder)\n",
    "# encoder = Dense(int(encoding_dim / 4), activation=\"tanh\", activity_regularizer=regularizers.l1(10e-5))(encoder)\n",
    "# encoder = Dense(int(encoding_dim / 8), activation=\"relu\", activity_regularizer=regularizers.l1(10e-5))(encoder)\n",
    "\n",
    "# decoder = Dense(int(encoding_dim / 4), activation='tanh')(encoder)\n",
    "decoder = Dense(int(encoding_dim / 2), activation='tanh')(encoder)\n",
    "# decoder = Dense(encoding_dim, activation='tanh')(decoder)\n",
    "decoder = Dense(flattened_input_shape, activation='relu')(decoder)\n",
    "\n",
    "output_layer = Reshape(input_dim)(decoder)\n",
    "\n",
    "autoencoder = Model(inputs=input_layer, outputs=output_layer)"
   ]
  },
  {
   "cell_type": "markdown",
   "metadata": {},
   "source": [
    "### conv NN"
   ]
  },
  {
   "cell_type": "code",
   "execution_count": 6,
   "metadata": {},
   "outputs": [
    {
     "name": "stderr",
     "output_type": "stream",
     "text": [
      "2023-12-12 12:26:38.010590: E external/local_xla/xla/stream_executor/cuda/cuda_driver.cc:274] failed call to cuInit: CUDA_ERROR_NO_DEVICE: no CUDA-capable device is detected\n"
     ]
    },
    {
     "name": "stdout",
     "output_type": "stream",
     "text": [
      "Model: \"model\"\n",
      "_________________________________________________________________\n",
      " Layer (type)                Output Shape              Param #   \n",
      "=================================================================\n",
      " input_1 (InputLayer)        [(None, 155, 220, 1)]     0         \n",
      "                                                                 \n",
      " conv2d (Conv2D)             (None, 155, 220, 16)      160       \n",
      "                                                                 \n",
      " max_pooling2d (MaxPooling2  (None, 78, 110, 16)       0         \n",
      " D)                                                              \n",
      "                                                                 \n",
      " conv2d_1 (Conv2D)           (None, 78, 110, 8)        1160      \n",
      "                                                                 \n",
      " max_pooling2d_1 (MaxPoolin  (None, 39, 55, 8)         0         \n",
      " g2D)                                                            \n",
      "                                                                 \n",
      " up_sampling2d (UpSampling2  (None, 78, 110, 8)        0         \n",
      " D)                                                              \n",
      "                                                                 \n",
      " conv2d_transpose (Conv2DTr  (None, 78, 110, 8)        584       \n",
      " anspose)                                                        \n",
      "                                                                 \n",
      " up_sampling2d_1 (UpSamplin  (None, 156, 220, 8)       0         \n",
      " g2D)                                                            \n",
      "                                                                 \n",
      " conv2d_transpose_1 (Conv2D  (None, 156, 220, 16)      1168      \n",
      " Transpose)                                                      \n",
      "                                                                 \n",
      " conv2d_2 (Conv2D)           (None, 156, 220, 1)       145       \n",
      "                                                                 \n",
      " cropping2d (Cropping2D)     (None, 155, 220, 1)       0         \n",
      "                                                                 \n",
      "=================================================================\n",
      "Total params: 3217 (12.57 KB)\n",
      "Trainable params: 3217 (12.57 KB)\n",
      "Non-trainable params: 0 (0.00 Byte)\n",
      "_________________________________________________________________\n"
     ]
    }
   ],
   "source": [
    "from keras.layers import Input, Dense, Flatten, Reshape, Conv2D, Conv2DTranspose, UpSampling2D, Cropping2D\n",
    "from keras.models import Model\n",
    "from keras import regularizers\n",
    "\n",
    "input_dim = X_train.shape[1:]\n",
    "input_layer = Input(shape=input_dim)\n",
    "encoding_dim = 16\n",
    "\n",
    "# Encoder\n",
    "x = Conv2D(encoding_dim, (3, 3), activation='relu', padding='same')(input_layer)\n",
    "x = MaxPooling2D((2, 2), padding='same')(x)\n",
    "x = Conv2D(8, (3, 3), activation='relu', padding='same')(x)\n",
    "encoded = MaxPooling2D((2, 2), padding='same')(x)\n",
    "\n",
    "# Decoder\n",
    "x = UpSampling2D((2, 2))(encoded)\n",
    "x = Conv2DTranspose(8, (3, 3), activation='relu', padding='same')(x)\n",
    "x = UpSampling2D((2, 2))(x)\n",
    "x = Conv2DTranspose(encoding_dim, (3, 3), activation='relu', padding='same')(x)\n",
    "decoded = Conv2D(input_dim[-1], (3, 3), activation='sigmoid', padding='same')(x)\n",
    "decoded = Cropping2D(cropping=((0, 1), (0, 0)))(decoded)\n",
    "\n",
    "autoencoder = Model(inputs=input_layer, outputs=decoded)\n",
    "\n",
    "autoencoder.summary()"
   ]
  },
  {
   "cell_type": "code",
   "execution_count": 7,
   "metadata": {},
   "outputs": [
    {
     "name": "stdout",
     "output_type": "stream",
     "text": [
      "Epoch 1/50\n",
      "12/12 [==============================] - 7s 352ms/step - loss: 0.2598 - val_loss: 0.1859\n",
      "Epoch 2/50\n"
     ]
    },
    {
     "name": "stderr",
     "output_type": "stream",
     "text": [
      "/u/epw9kz/.local/lib/python3.10/site-packages/keras/src/engine/training.py:3103: UserWarning: You are saving your model as an HDF5 file via `model.save()`. This file format is considered legacy. We recommend using instead the native Keras format, e.g. `model.save('my_model.keras')`.\n",
      "  saving_api.save_model(\n"
     ]
    },
    {
     "name": "stdout",
     "output_type": "stream",
     "text": [
      "12/12 [==============================] - 4s 320ms/step - loss: 0.1008 - val_loss: 0.0251\n",
      "Epoch 3/50\n",
      "12/12 [==============================] - 4s 323ms/step - loss: 0.0180 - val_loss: 0.0168\n",
      "Epoch 4/50\n",
      "12/12 [==============================] - 4s 321ms/step - loss: 0.0160 - val_loss: 0.0166\n",
      "Epoch 5/50\n",
      "12/12 [==============================] - 4s 326ms/step - loss: 0.0159 - val_loss: 0.0166\n",
      "Epoch 6/50\n",
      "12/12 [==============================] - 4s 321ms/step - loss: 0.0159 - val_loss: 0.0166\n",
      "Epoch 7/50\n",
      "12/12 [==============================] - 4s 320ms/step - loss: 0.0159 - val_loss: 0.0166\n",
      "Epoch 8/50\n",
      "12/12 [==============================] - 4s 320ms/step - loss: 0.0159 - val_loss: 0.0166\n",
      "Epoch 9/50\n",
      "12/12 [==============================] - 4s 321ms/step - loss: 0.0159 - val_loss: 0.0166\n",
      "Epoch 10/50\n",
      "12/12 [==============================] - 4s 333ms/step - loss: 0.0159 - val_loss: 0.0165\n",
      "Epoch 11/50\n",
      "12/12 [==============================] - 4s 333ms/step - loss: 0.0159 - val_loss: 0.0165\n",
      "Epoch 12/50\n",
      "12/12 [==============================] - 4s 340ms/step - loss: 0.0159 - val_loss: 0.0165\n",
      "Epoch 13/50\n",
      "12/12 [==============================] - 4s 320ms/step - loss: 0.0159 - val_loss: 0.0165\n",
      "Epoch 14/50\n",
      "12/12 [==============================] - 4s 320ms/step - loss: 0.0158 - val_loss: 0.0165\n",
      "Epoch 15/50\n",
      "12/12 [==============================] - 4s 321ms/step - loss: 0.0158 - val_loss: 0.0165\n",
      "Epoch 16/50\n",
      "12/12 [==============================] - 4s 317ms/step - loss: 0.0158 - val_loss: 0.0165\n",
      "Epoch 17/50\n",
      "12/12 [==============================] - 4s 319ms/step - loss: 0.0158 - val_loss: 0.0165\n",
      "Epoch 18/50\n",
      "12/12 [==============================] - 4s 321ms/step - loss: 0.0158 - val_loss: 0.0164\n",
      "Epoch 19/50\n",
      "12/12 [==============================] - 4s 323ms/step - loss: 0.0145 - val_loss: 0.0136\n",
      "Epoch 20/50\n",
      "12/12 [==============================] - 4s 322ms/step - loss: 0.0119 - val_loss: 0.0122\n",
      "Epoch 21/50\n",
      "12/12 [==============================] - 4s 322ms/step - loss: 0.0114 - val_loss: 0.0118\n",
      "Epoch 22/50\n",
      "10/12 [========================>.....] - ETA: 0s - loss: 0.0112"
     ]
    }
   ],
   "source": [
    "nb_epoch = 50\n",
    "batch_size = 64\n",
    "\n",
    "autoencoder.compile(optimizer='adam', \n",
    "                    loss='mean_squared_error'\n",
    "                    # metrics=['accuracy']\n",
    "                    )\n",
    "\n",
    "checkpointer = ModelCheckpoint(filepath=\"model.h5\",\n",
    "                               verbose=0,\n",
    "                               save_best_only=True)\n",
    "tensorboard = TensorBoard(\n",
    "                        # log_dir='./logs',\n",
    "                          histogram_freq=0,\n",
    "                          write_graph=True,\n",
    "                          write_images=True)\n",
    "\n",
    "history = autoencoder.fit(X_train, X_train,\n",
    "                    epochs=nb_epoch,\n",
    "                    batch_size=batch_size,\n",
    "                    shuffle=True,\n",
    "                    validation_data=(X_test, X_test),\n",
    "                    verbose=1,\n",
    "                    callbacks=[checkpointer, tensorboard]).history"
   ]
  },
  {
   "cell_type": "code",
   "execution_count": 36,
   "metadata": {},
   "outputs": [
    {
     "data": {
      "text/plain": [
       "<matplotlib.legend.Legend at 0x7f722b52d390>"
      ]
     },
     "execution_count": 36,
     "metadata": {},
     "output_type": "execute_result"
    },
    {
     "data": {
      "image/png": "[encoded data removed]",
      "text/plain": [
       "<Figure size 640x480 with 1 Axes>"
      ]
     },
     "metadata": {},
     "output_type": "display_data"
    }
   ],
   "source": [
    "plt.plot(history['loss'])\n",
    "plt.plot(history['val_loss'])\n",
    "plt.title('model loss')\n",
    "plt.ylabel('loss')\n",
    "plt.xlabel('epoch')\n",
    "plt.legend(['train', 'test'], loc='upper right')"
   ]
  },
  {
   "cell_type": "markdown",
   "metadata": {},
   "source": [
    "## Evaluation"
   ]
  },
  {
   "cell_type": "code",
   "execution_count": 29,
   "metadata": {},
   "outputs": [],
   "source": [
    "from sklearn.metrics import (confusion_matrix, precision_recall_curve, auc,\n",
    "                             roc_curve, recall_score, classification_report, f1_score,\n",
    "                             precision_recall_fscore_support)"
   ]
  },
  {
   "cell_type": "code",
   "execution_count": 30,
   "metadata": {},
   "outputs": [
    {
     "name": "stdout",
     "output_type": "stream",
     "text": [
      "9/9 [==============================] - 1s 46ms/step\n",
      "2.7716553410587847e-07 0.0666856329154803\n",
      "1.0 0.0\n"
     ]
    },
    {
     "data": {
      "text/html": [
       "<div>\n",
       "<style scoped>\n",
       "    .dataframe tbody tr th:only-of-type {\n",
       "        vertical-align: middle;\n",
       "    }\n",
       "\n",
       "    .dataframe tbody tr th {\n",
       "        vertical-align: top;\n",
       "    }\n",
       "\n",
       "    .dataframe thead th {\n",
       "        text-align: right;\n",
       "    }\n",
       "</style>\n",
       "<table border=\"1\" class=\"dataframe\">\n",
       "  <thead>\n",
       "    <tr style=\"text-align: right;\">\n",
       "      <th></th>\n",
       "      <th>reconstruction_error</th>\n",
       "      <th>true_class</th>\n",
       "    </tr>\n",
       "  </thead>\n",
       "  <tbody>\n",
       "    <tr>\n",
       "      <th>count</th>\n",
       "      <td>270.000000</td>\n",
       "      <td>270.000000</td>\n",
       "    </tr>\n",
       "    <tr>\n",
       "      <th>mean</th>\n",
       "      <td>0.199124</td>\n",
       "      <td>0.292593</td>\n",
       "    </tr>\n",
       "    <tr>\n",
       "      <th>std</th>\n",
       "      <td>0.169894</td>\n",
       "      <td>0.455798</td>\n",
       "    </tr>\n",
       "    <tr>\n",
       "      <th>min</th>\n",
       "      <td>0.000000</td>\n",
       "      <td>0.000000</td>\n",
       "    </tr>\n",
       "    <tr>\n",
       "      <th>25%</th>\n",
       "      <td>0.091908</td>\n",
       "      <td>0.000000</td>\n",
       "    </tr>\n",
       "    <tr>\n",
       "      <th>50%</th>\n",
       "      <td>0.158093</td>\n",
       "      <td>0.000000</td>\n",
       "    </tr>\n",
       "    <tr>\n",
       "      <th>75%</th>\n",
       "      <td>0.260008</td>\n",
       "      <td>1.000000</td>\n",
       "    </tr>\n",
       "    <tr>\n",
       "      <th>max</th>\n",
       "      <td>1.000000</td>\n",
       "      <td>1.000000</td>\n",
       "    </tr>\n",
       "  </tbody>\n",
       "</table>\n",
       "</div>"
      ],
      "text/plain": [
       "       reconstruction_error  true_class\n",
       "count            270.000000  270.000000\n",
       "mean               0.199124    0.292593\n",
       "std                0.169894    0.455798\n",
       "min                0.000000    0.000000\n",
       "25%                0.091908    0.000000\n",
       "50%                0.158093    0.000000\n",
       "75%                0.260008    1.000000\n",
       "max                1.000000    1.000000"
      ]
     },
     "execution_count": 30,
     "metadata": {},
     "output_type": "execute_result"
    }
   ],
   "source": [
    "predictions = autoencoder.predict(X_valid)\n",
    "mse = np.mean(np.power(X_valid - predictions, 2), axis=(1, 2, 3))\n",
    "\n",
    "print(np.min(mse), np.max(mse))\n",
    "\n",
    "mse_min = np.min(mse)\n",
    "mse_max = np.max(mse)\n",
    "\n",
    "mse_scaled = (mse - mse_min) / (mse_max - mse_min)\n",
    "mse = mse_scaled\n",
    "\n",
    "# print(X_valid.shape)\n",
    "# print(predictions.shape)\n",
    "# print(y_valid.shape)\n",
    "print(mse.max(), mse.min())\n",
    "\n",
    "error_df = pd.DataFrame({'reconstruction_error': mse, 'true_class': y_valid})\n",
    "\n",
    "error_df.describe()"
   ]
  },
  {
   "cell_type": "code",
   "execution_count": 31,
   "metadata": {},
   "outputs": [
    {
     "data": {
      "image/png": "[encoded data removed]",
      "text/plain": [
       "<Figure size 640x480 with 1 Axes>"
      ]
     },
     "metadata": {},
     "output_type": "display_data"
    }
   ],
   "source": [
    "fpr, tpr, thresholds = roc_curve(error_df.true_class, error_df.reconstruction_error)\n",
    "roc_auc = auc(fpr, tpr)\n",
    "\n",
    "plt.title('Receiver Operating Characteristic')\n",
    "plt.plot(fpr, tpr, label='AUC = %0.4f'% roc_auc)\n",
    "plt.legend(loc='lower right')\n",
    "plt.plot([0,1],[0,1],'r--')\n",
    "plt.xlim([-0.001, 1])\n",
    "plt.ylim([0, 1.001])\n",
    "plt.ylabel('True Positive Rate')\n",
    "plt.xlabel('False Positive Rate')\n",
    "plt.show()"
   ]
  },
  {
   "cell_type": "code",
   "execution_count": 16,
   "metadata": {},
   "outputs": [
    {
     "name": "stdout",
     "output_type": "stream",
     "text": [
      "threshold 0.05 False Acceptance Rate (FAR): 0.9797979797979798\n",
      "threshold 0.1 False Acceptance Rate (FAR): 0.9545454545454546\n",
      "threshold 0.2 False Acceptance Rate (FAR): 0.696969696969697\n",
      "threshold 0.25 False Acceptance Rate (FAR): 0.5454545454545454\n",
      "threshold 0.3 False Acceptance Rate (FAR): 0.41919191919191917\n",
      "threshold 0.4 False Acceptance Rate (FAR): 0.22727272727272727\n"
     ]
    }
   ],
   "source": [
    "threshold_list = [0.05, 0.1, 0.2, 0.25, 0.3, 0.4]\n",
    "# threshold_list = [0.001, 0.005, 0.0075, 0.01]\n",
    "\n",
    "for th in threshold_list:\n",
    "    threshold = th\n",
    "    y_pred = [1 if e > threshold else 0 for e in error_df.reconstruction_error.values]\n",
    "    conf_matrix = confusion_matrix(error_df.true_class, y_pred)\n",
    "\n",
    "    recall = recall_score(error_df.true_class, y_pred)\n",
    "\n",
    "    # print('threshold', threshold, 'recall', recall)\n",
    "\n",
    "    TN, FP, FN, TP = conf_matrix.ravel()\n",
    "    FAR = FP / (FP + TN)\n",
    "\n",
    "    print('threshold', threshold, \"False Acceptance Rate (FAR):\", FAR)\n",
    "    # print(conf_matrix)\n",
    "    # plt.figure(figsize=(12, 12))\n",
    "    # sns.heatmap(conf_matrix, xticklabels=LABELS, yticklabels=LABELS, annot=True, fmt=\"d\")\n",
    "    # plt.title(\"Confusion matrix\")\n",
    "    # plt.ylabel('True class')\n",
    "    # plt.xlabel('Predicted class')\n",
    "    # plt.show()"
   ]
  },
  {
   "cell_type": "markdown",
   "metadata": {},
   "source": [
    "## Performance on Unseen Data"
   ]
  },
  {
   "cell_type": "code",
   "execution_count": 20,
   "metadata": {},
   "outputs": [
    {
     "name": "stdout",
     "output_type": "stream",
     "text": [
      "44/44 [==============================] - 2s 50ms/step\n",
      "threshold 0.05 recall 0.8762626262626263\n",
      "[[   4  194]\n",
      " [ 147 1041]]\n"
     ]
    },
    {
     "data": {
      "text/plain": [
       "Text(0.5, 14.722222222222216, 'Predicted class')"
      ]
     },
     "execution_count": 20,
     "metadata": {},
     "output_type": "execute_result"
    },
    {
     "data": {
      "image/png": "[encoded data removed]",
      "text/plain": [
       "<Figure size 400x400 with 2 Axes>"
      ]
     },
     "metadata": {},
     "output_type": "display_data"
    }
   ],
   "source": [
    "predictions = autoencoder.predict(reserved_X_test)\n",
    "mse = np.mean(np.power(reserved_X_test - predictions, 2), axis=(1, 2, 3))\n",
    "\n",
    "# print(np.min(mse), np.max(mse))\n",
    "\n",
    "mse_min = np.min(mse)\n",
    "mse_max = np.max(mse)\n",
    "\n",
    "mse_scaled = (mse - mse_min) / (mse_max - mse_min)\n",
    "mse = mse_scaled\n",
    "\n",
    "# print(X_valid.shape)\n",
    "# print(predictions.shape)\n",
    "# print(y_valid.shape)\n",
    "# print(mse.max(), mse.min())\n",
    "\n",
    "error_df = pd.DataFrame({'reconstruction_error': mse, 'true_class': reserved_y_test})\n",
    "\n",
    "threshold = 0.05\n",
    "y_pred = [1 if e > threshold else 0 for e in error_df.reconstruction_error.values]\n",
    "conf_matrix = confusion_matrix(error_df.true_class, y_pred)\n",
    "\n",
    "recall = recall_score(error_df.true_class, y_pred)\n",
    "print('threshold', threshold, 'recall', recall)\n",
    "\n",
    "TN, FP, FN, TP = conf_matrix.ravel()\n",
    "FAR = FP / (FP + TN)\n",
    "\n",
    "# print(\"False Acceptance Rate (FAR):\", FAR)\n",
    "print(conf_matrix)\n",
    "plt.figure(figsize=(4, 4))\n",
    "sns.heatmap(conf_matrix, xticklabels=LABELS, yticklabels=LABELS, annot=True, fmt=\"d\")\n",
    "plt.title(\"Confusion matrix\")\n",
    "plt.ylabel('True class')\n",
    "plt.xlabel('Predicted class')\n",
    "# plt.show()"
   ]
  },
  {
   "cell_type": "code",
   "execution_count": null,
   "metadata": {},
   "outputs": [],
   "source": []
  }
 ],
 "metadata": {
  "kernelspec": {
   "display_name": "Python 3",
   "language": "python",
   "name": "python3"
  },
  "language_info": {
   "codemirror_mode": {
    "name": "ipython",
    "version": 3
   },
   "file_extension": ".py",
   "mimetype": "text/x-python",
   "name": "python",
   "nbconvert_exporter": "python",
   "pygments_lexer": "ipython3",
   "version": "3.10.12"
  }
 },
 "nbformat": 4,
 "nbformat_minor": 2
}
