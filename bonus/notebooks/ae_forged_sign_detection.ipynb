{
 "cells": [
  {
   "cell_type": "code",
   "execution_count": 54,
   "metadata": {},
   "outputs": [],
   "source": [
    "import pandas as pd\n",
    "import numpy as np\n",
    "import pickle\n",
    "import matplotlib.pyplot as plt\n",
    "from scipy import stats\n",
    "import tensorflow as tf\n",
    "import seaborn as sns\n",
    "from pylab import rcParams\n",
    "from sklearn.model_selection import train_test_split\n",
    "from keras.models import Model, load_model\n",
    "from keras.layers import Input, Dense\n",
    "from keras.callbacks import ModelCheckpoint, TensorBoard\n",
    "from keras import regularizers\n",
    "import os\n",
    "\n",
    "from tensorflow import keras\n",
    "from tensorflow.keras import layers\n",
    "from tensorflow.keras.layers import Input, Add, Multiply, Subtract, Dense, Activation, ZeroPadding2D, BatchNormalization, Flatten, Conv2D, AveragePooling2D, Dropout, MaxPooling2D, GlobalMaxPooling2D\n",
    "from tensorflow.keras.layers import Dense, Dropout, Input, Lambda, Flatten, Convolution2D, MaxPooling2D, ZeroPadding2D, Reshape\n",
    "from tensorflow.keras.regularizers import l2\n",
    "from tensorflow.keras.models import Model, load_model, Sequential\n",
    "from tensorflow.keras.preprocessing import image\n",
    "# from tensorflow.keras.utils import layer_utils\n",
    "# from keras.utils.data_utils import get_file\n",
    "from keras.applications.imagenet_utils import preprocess_input\n",
    "\n",
    "%matplotlib inline\n",
    "\n",
    "from IPython.display import SVG\n",
    "# from keras.utils.vis_utils import model_to_dot\n",
    "# from keras.utils import plot_model\n",
    "#from resnets_utils import *\n",
    "from keras.initializers import glorot_uniform, he_normal\n",
    "import scipy.misc\n",
    "from matplotlib.pyplot import imshow\n",
    "import matplotlib.pyplot as plt\n",
    "%matplotlib inline\n",
    "import keras.backend as K\n",
    "K.set_image_data_format('channels_last') \n",
    "# K.set_learning_phase(1) \n",
    "import scipy\n",
    "import cv2\n",
    "from keras.layers import subtract\n",
    "import keras\n",
    "from keras.layers import Lambda\n",
    "import tensorflow as tf \n",
    "from tensorflow.keras.optimizers import Adam,RMSprop \n",
    "\n",
    "from tensorflow import image\n",
    "from tensorflow.keras.utils import *\n",
    "\n",
    "from PIL import Image,ImageOps\n",
    "\n",
    "import pickle\n",
    "import matplotlib.pyplot as plt\n",
    "from scipy import stats\n",
    "import tensorflow as tf\n",
    "import seaborn as sns\n",
    "from pylab import rcParams\n",
    "from sklearn.model_selection import train_test_split\n",
    "from keras.models import Model, load_model\n",
    "from keras.layers import Input, Dense\n",
    "from keras.callbacks import ModelCheckpoint, TensorBoard\n",
    "from keras import regularizers\n",
    "\n",
    "RANDOM_SEED = 42\n",
    "LABELS = [\"genunine\", \"forged\"]"
   ]
  },
  {
   "cell_type": "code",
   "execution_count": 79,
   "metadata": {},
   "outputs": [],
   "source": [
    "def preprocess(img_input):\n",
    "\timg_input=cv2.resize(img_input,SIZE,interpolation=cv2.INTER_LINEAR)\n",
    "\n",
    "\t# ------------------------------\n",
    "\t#Only black or white pixels\n",
    "\tbw_pixels = np.where(img_input < 128, 0, 255)\n",
    "\tbw_image = bw_pixels.reshape((155, 220))\n",
    "\timg_input = bw_image\n",
    "\t# Rescaling the intensity\n",
    "\tpmin, pmax = img_input.min(), img_input.max()\n",
    "\tif pmin == pmax or np.isnan(pmin) or np.isnan(pmax):\n",
    "\t\trescaled_image = img_input  # or set it to a default value\n",
    "\telse:\n",
    "\t\trescaled_image = 255 * (img_input - pmin) / (pmax - pmin)\n",
    "\trescaled_pixels = rescaled_image.flatten()\n",
    "\timg_input = rescaled_pixels\n",
    "\t# ------------------------------\n",
    "\n",
    "\timg_input=img_input/255\n",
    "\treturn img_input\n",
    "\n",
    "def contrastive_loss(y, preds, margin=1):\n",
    "\t# explicitly cast the true class label data type to the predicted\n",
    "\t# class label data type (otherwise we run the risk of having two\n",
    "\t# separate data types, causing TensorFlow to error out)\n",
    "\ty = tf.cast(y, preds.dtype)\n",
    "\t# calculate the contrastive loss between the true labels and\n",
    "\t# the predicted labels\n",
    "\tsquaredPreds = K.square(preds)\n",
    "\tsquaredMargin = K.square(K.maximum(margin - preds, 0))\n",
    "\tloss = K.mean(y * squaredPreds + (1 - y) * squaredMargin)\n",
    "\t# return the computed contrastive loss to the calling function\n",
    "\treturn loss"
   ]
  },
  {
   "cell_type": "code",
   "execution_count": 80,
   "metadata": {},
   "outputs": [],
   "source": [
    "SIZE=(220,155)\n",
    "# input_shape=(155,230,3)"
   ]
  },
  {
   "cell_type": "markdown",
   "metadata": {},
   "source": [
    "## Load Data"
   ]
  },
  {
   "cell_type": "code",
   "execution_count": 16,
   "metadata": {},
   "outputs": [
    {
     "name": "stdout",
     "output_type": "stream",
     "text": [
      "img x (155, 220, 1)\n"
     ]
    }
   ],
   "source": [
    "# org_list_1=[]\n",
    "# for i in range(55):\n",
    "#     p=[]\n",
    "#     for j in range(24):\n",
    "#         img_path = '/u/epw9kz/academic/first_year/ML/project/bonus/dataset/2_CEDAR/signatures/full_forg/forgeries_'+str(i+1) +'_' +str(j+1)+'.png'\n",
    "#         img = load_img(img_path,target_size=(155,220), color_mode='grayscale') \n",
    "#         x = img_to_array(img)\n",
    "#         if i == 0 and j == 0:\n",
    "#             print('img x', x.shape)\n",
    "#             break"
   ]
  },
  {
   "cell_type": "code",
   "execution_count": 82,
   "metadata": {},
   "outputs": [
    {
     "name": "stdout",
     "output_type": "stream",
     "text": [
      "55\n"
     ]
    }
   ],
   "source": [
    "forg_list_1=[]\n",
    "for i in range(55):\n",
    "    p=[]\n",
    "    for j in range(24):\n",
    "        img_path = '/u/epw9kz/academic/first_year/ML_bonus/bonus/dataset/2_CEDAR/signatures/full_forg/forgeries_'+str(i+1) +'_' +str(j+1)+'.png'\n",
    "        img = load_img(img_path, color_mode = \"grayscale\", target_size=(155,220)) \n",
    "        x = img_to_array(img)\n",
    "        x=preprocess(x)\n",
    "        p.append(x)\n",
    "    forg_list_1.append(p)\n",
    "\n",
    "org_list_1=[]\n",
    "for i in range(55):\n",
    "    p=[]\n",
    "    for j in range(24):\n",
    "        img_path = '/u/epw9kz/academic/first_year/ML_bonus/bonus/dataset/2_CEDAR/signatures/full_org/original_'+str(i+1) +'_' +str(j+1)+'.png'\n",
    "        img = load_img(img_path, color_mode = \"grayscale\", target_size=(155,220)) \n",
    "        x = img_to_array(img)\n",
    "        x=preprocess(x)\n",
    "        p.append(x)\n",
    "    org_list_1.append(p)\n",
    "\n",
    "print(len(forg_list_1))"
   ]
  },
  {
   "cell_type": "code",
   "execution_count": 83,
   "metadata": {},
   "outputs": [
    {
     "name": "stdout",
     "output_type": "stream",
     "text": [
      "(55, 24, 34100)\n",
      "(55, 24, 34100)\n",
      "(1320, 155, 220)\n",
      "(1320, 155, 220)\n"
     ]
    }
   ],
   "source": [
    "frauds = np.asarray(forg_list_1)\n",
    "normal = np.asarray(org_list_1)\n",
    "\n",
    "print(frauds.shape)\n",
    "print(normal.shape)\n",
    "\n",
    "frauds = frauds.reshape(-1, SIZE[1], SIZE[0])\n",
    "normal = normal.reshape(-1, SIZE[1], SIZE[0])\n",
    "\n",
    "print(frauds.shape)\n",
    "print(normal.shape)"
   ]
  },
  {
   "cell_type": "markdown",
   "metadata": {},
   "source": [
    "## Preparing the Data"
   ]
  },
  {
   "cell_type": "markdown",
   "metadata": {},
   "source": [
    "### test data with only normal signs"
   ]
  },
  {
   "cell_type": "code",
   "execution_count": 84,
   "metadata": {},
   "outputs": [
    {
     "name": "stdout",
     "output_type": "stream",
     "text": [
      "unseen test data (1452, 155, 220) (1452,)\n",
      "--------******   valid dist (66, 155, 220) (191, 155, 220)\n",
      "train data (762, 155, 220)\n",
      "validation data (257, 155, 220) (257,)\n",
      "test data (169, 155, 220)\n"
     ]
    }
   ],
   "source": [
    "working_X_train_frauds, reserved_X_test_frauds = train_test_split(frauds, test_size=0.95, random_state=RANDOM_SEED)\n",
    "working_X_train_normal, reserved_X_test_normal = train_test_split(normal, test_size=0.15, random_state=RANDOM_SEED)\n",
    "\n",
    "# preparing unseend test data (fraud + normal)\n",
    "reserved_X_test = np.concatenate([reserved_X_test_frauds, reserved_X_test_normal])\n",
    "frauds_length = len(reserved_X_test_frauds)\n",
    "normal_length = len(reserved_X_test_normal)\n",
    "reserved_y_test = np.concatenate([np.ones(frauds_length), np.zeros(normal_length)])\n",
    "\n",
    "indices = np.arange(len(reserved_X_test))\n",
    "np.random.shuffle(indices)\n",
    "reserved_X_test = reserved_X_test[indices]\n",
    "reserved_y_test = reserved_y_test[indices]\n",
    "\n",
    "print('unseen test data', reserved_X_test.shape, reserved_y_test.shape)\n",
    "\n",
    "# preparing train (only normal), test (only normal), validation (fraud + normal) data\n",
    "X_valid_train_normal, X_test = train_test_split(working_X_train_normal, test_size=0.15, random_state=RANDOM_SEED)\n",
    "\n",
    "X_valid_frauds = working_X_train_frauds\n",
    "X_train, X_valid_normal = train_test_split(X_valid_train_normal, test_size=0.2, random_state=RANDOM_SEED)\n",
    "print('--------******   valid dist', X_valid_frauds.shape, X_valid_normal.shape)\n",
    "\n",
    "X_valid = np.concatenate([X_valid_frauds, X_valid_normal])\n",
    "frauds_length = len(X_valid_frauds)\n",
    "normal_length = len(X_valid_normal)\n",
    "y_valid = np.concatenate([np.ones(frauds_length), np.zeros(normal_length)])\n",
    "\n",
    "indices = np.arange(len(X_valid))\n",
    "np.random.shuffle(indices)\n",
    "X_valid = X_valid[indices]\n",
    "y_valid= y_valid[indices]\n",
    "\n",
    "print('train data', X_train.shape)\n",
    "print('validation data', X_valid.shape, y_valid.shape)\n",
    "print('test data', X_test.shape)"
   ]
  },
  {
   "cell_type": "markdown",
   "metadata": {},
   "source": [
    "### Test data with normal and forged signs"
   ]
  },
  {
   "cell_type": "code",
   "execution_count": 85,
   "metadata": {},
   "outputs": [
    {
     "name": "stdout",
     "output_type": "stream",
     "text": [
      "unseen test data (1386, 155, 220) (1386,)\n",
      "--------******   test dist (53, 155, 220) (169, 155, 220)\n",
      "--------******   valid dist (79, 155, 220) (191, 155, 220)\n",
      "train data (762, 155, 220)\n",
      "validation data (270, 155, 220) (270,)\n",
      "test data (222, 155, 220) (222,)\n"
     ]
    }
   ],
   "source": [
    "working_X_train_frauds, reserved_X_test_frauds = train_test_split(frauds, test_size=0.90, random_state=RANDOM_SEED)\n",
    "working_X_train_normal, reserved_X_test_normal = train_test_split(normal, test_size=0.15, random_state=RANDOM_SEED)\n",
    "\n",
    "# preparing unseend test data (fraud + normal)\n",
    "reserved_X_test = np.concatenate([reserved_X_test_frauds, reserved_X_test_normal])\n",
    "frauds_length = len(reserved_X_test_frauds)\n",
    "normal_length = len(reserved_X_test_normal)\n",
    "reserved_y_test = np.concatenate([np.ones(frauds_length), np.zeros(normal_length)])\n",
    "\n",
    "indices = np.arange(len(reserved_X_test))\n",
    "np.random.shuffle(indices)\n",
    "reserved_X_test = reserved_X_test[indices]\n",
    "reserved_y_test = reserved_y_test[indices]\n",
    "\n",
    "print('unseen test data', reserved_X_test.shape, reserved_y_test.shape)\n",
    "\n",
    "# preparing train (only normal), test (fraud + normal), validation (fraud + normal) data\n",
    "X_valid_frauds, X_test_frauds = train_test_split(working_X_train_frauds, test_size=0.40, random_state=RANDOM_SEED)\n",
    "X_valid_train_normal, X_test_normal = train_test_split(working_X_train_normal, test_size=0.15, random_state=RANDOM_SEED)\n",
    "print('--------******   test dist', X_test_frauds.shape, X_test_normal.shape)\n",
    "\n",
    "X_test = np.concatenate([X_test_frauds, X_test_normal])\n",
    "frauds_length = len(X_test_frauds)\n",
    "normal_length = len(X_test_normal)\n",
    "y_test = np.concatenate([np.ones(frauds_length), np.zeros(normal_length)])\n",
    "\n",
    "indices = np.arange(len(X_test))\n",
    "np.random.shuffle(indices)\n",
    "X_test = X_test[indices]\n",
    "y_test= y_test[indices]\n",
    "\n",
    "X_train, X_valid_normal = train_test_split(X_valid_train_normal, test_size=0.2, random_state=RANDOM_SEED)\n",
    "print('--------******   valid dist', X_valid_frauds.shape, X_valid_normal.shape)\n",
    "\n",
    "X_valid = np.concatenate([X_valid_frauds, X_valid_normal])\n",
    "frauds_length = len(X_valid_frauds)\n",
    "normal_length = len(X_valid_normal)\n",
    "y_valid = np.concatenate([np.ones(frauds_length), np.zeros(normal_length)])\n",
    "\n",
    "indices = np.arange(len(X_valid))\n",
    "np.random.shuffle(indices)\n",
    "X_valid = X_valid[indices]\n",
    "y_valid= y_valid[indices]\n",
    "\n",
    "print('train data', X_train.shape)\n",
    "print('validation data', X_valid.shape, y_valid.shape)\n",
    "print('test data', X_test.shape, y_test.shape)"
   ]
  },
  {
   "cell_type": "markdown",
   "metadata": {},
   "source": [
    "## Building the Model"
   ]
  },
  {
   "cell_type": "code",
   "execution_count": 86,
   "metadata": {},
   "outputs": [],
   "source": [
    "input_dim = X_train.shape[1:]\n",
    "flattened_input_shape = np.prod(input_dim)  \n",
    "encoding_dim = 14\n",
    "\n",
    "input_layer = Input(shape=input_dim)\n",
    "\n",
    "flattened_layer = Flatten()(input_layer)\n",
    "\n",
    "encoder = Dense(encoding_dim, activation=\"tanh\", \n",
    "                activity_regularizer=regularizers.l1(10e-5))(flattened_layer)\n",
    "encoder = Dense(int(encoding_dim / 2), activation=\"relu\")(encoder)\n",
    "\n",
    "decoder = Dense(int(encoding_dim / 2), activation='tanh')(encoder)\n",
    "decoder = Dense(flattened_input_shape, activation='relu')(decoder)\n",
    "\n",
    "output_layer = Reshape(input_dim)(decoder)\n",
    "\n",
    "autoencoder = Model(inputs=input_layer, outputs=output_layer)"
   ]
  },
  {
   "cell_type": "code",
   "execution_count": 87,
   "metadata": {},
   "outputs": [
    {
     "name": "stdout",
     "output_type": "stream",
     "text": [
      "Epoch 1/10\n",
      "24/24 [==============================] - 1s 23ms/step - loss: 0.8950 - accuracy: 0.0165 - val_loss: 0.7951 - val_accuracy: 0.0193\n",
      "Epoch 2/10\n",
      " 7/24 [=======>......................] - ETA: 0s - loss: 0.7709 - accuracy: 0.0191"
     ]
    },
    {
     "name": "stderr",
     "output_type": "stream",
     "text": [
      "/u/epw9kz/.local/lib/python3.10/site-packages/keras/src/engine/training.py:3103: UserWarning: You are saving your model as an HDF5 file via `model.save()`. This file format is considered legacy. We recommend using instead the native Keras format, e.g. `model.save('my_model.keras')`.\n",
      "  saving_api.save_model(\n"
     ]
    },
    {
     "name": "stdout",
     "output_type": "stream",
     "text": [
      "24/24 [==============================] - 0s 14ms/step - loss: 0.7069 - accuracy: 0.0192 - val_loss: 0.6167 - val_accuracy: 0.0193\n",
      "Epoch 3/10\n",
      "24/24 [==============================] - 0s 14ms/step - loss: 0.5539 - accuracy: 0.0192 - val_loss: 0.4943 - val_accuracy: 0.0193\n",
      "Epoch 4/10\n",
      "24/24 [==============================] - 0s 14ms/step - loss: 0.4569 - accuracy: 0.0192 - val_loss: 0.4226 - val_accuracy: 0.0193\n",
      "Epoch 5/10\n",
      "24/24 [==============================] - 0s 14ms/step - loss: 0.4024 - accuracy: 0.0266 - val_loss: 0.3845 - val_accuracy: 0.0323\n",
      "Epoch 6/10\n",
      "24/24 [==============================] - 0s 14ms/step - loss: 0.3745 - accuracy: 0.0321 - val_loss: 0.3660 - val_accuracy: 0.0323\n",
      "Epoch 7/10\n",
      "24/24 [==============================] - 0s 15ms/step - loss: 0.3614 - accuracy: 0.0363 - val_loss: 0.3578 - val_accuracy: 0.0452\n",
      "Epoch 8/10\n",
      "24/24 [==============================] - 0s 15ms/step - loss: 0.3558 - accuracy: 0.0466 - val_loss: 0.3545 - val_accuracy: 0.0387\n",
      "Epoch 9/10\n",
      "24/24 [==============================] - 0s 15ms/step - loss: 0.3536 - accuracy: 0.0343 - val_loss: 0.3533 - val_accuracy: 0.0323\n",
      "Epoch 10/10\n",
      "24/24 [==============================] - 0s 14ms/step - loss: 0.3529 - accuracy: 0.0353 - val_loss: 0.3529 - val_accuracy: 0.0450\n"
     ]
    }
   ],
   "source": [
    "nb_epoch = 10\n",
    "batch_size = 32\n",
    "\n",
    "autoencoder.compile(optimizer='adam', \n",
    "                    loss='mean_squared_error', \n",
    "                    metrics=['accuracy'])\n",
    "\n",
    "checkpointer = ModelCheckpoint(filepath=\"model.h5\",\n",
    "                               verbose=0,\n",
    "                               save_best_only=True)\n",
    "tensorboard = TensorBoard(log_dir='./logs',\n",
    "                          histogram_freq=0,\n",
    "                          write_graph=True,\n",
    "                          write_images=True)\n",
    "\n",
    "history = autoencoder.fit(X_train, X_train,\n",
    "                    epochs=nb_epoch,\n",
    "                    batch_size=batch_size,\n",
    "                    shuffle=True,\n",
    "                    validation_data=(X_test, X_test),\n",
    "                    verbose=1,\n",
    "                    callbacks=[checkpointer, tensorboard]).history"
   ]
  },
  {
   "cell_type": "code",
   "execution_count": 88,
   "metadata": {},
   "outputs": [
    {
     "data": {
      "text/plain": [
       "<matplotlib.legend.Legend at 0x7fcd0ecfb850>"
      ]
     },
     "execution_count": 88,
     "metadata": {},
     "output_type": "execute_result"
    },
    {
     "data": {
      "image/png": "[encoded data removed]",
      "text/plain": [
       "<Figure size 640x480 with 1 Axes>"
      ]
     },
     "metadata": {},
     "output_type": "display_data"
    }
   ],
   "source": [
    "plt.plot(history['loss'])\n",
    "plt.plot(history['val_loss'])\n",
    "plt.title('model loss')\n",
    "plt.ylabel('loss')\n",
    "plt.xlabel('epoch')\n",
    "plt.legend(['train', 'test'], loc='upper right')"
   ]
  },
  {
   "cell_type": "markdown",
   "metadata": {},
   "source": [
    "## Evaluation"
   ]
  },
  {
   "cell_type": "code",
   "execution_count": 89,
   "metadata": {},
   "outputs": [],
   "source": [
    "from sklearn.metrics import (confusion_matrix, precision_recall_curve, auc,\n",
    "                             roc_curve, recall_score, classification_report, f1_score,\n",
    "                             precision_recall_fscore_support)"
   ]
  },
  {
   "cell_type": "code",
   "execution_count": 92,
   "metadata": {},
   "outputs": [
    {
     "name": "stdout",
     "output_type": "stream",
     "text": [
      "9/9 [==============================] - 0s 4ms/step\n",
      "0.3474581711607001 0.3630385627893514\n",
      "1.0 0.0\n"
     ]
    },
    {
     "data": {
      "text/html": [
       "<div>\n",
       "<style scoped>\n",
       "    .dataframe tbody tr th:only-of-type {\n",
       "        vertical-align: middle;\n",
       "    }\n",
       "\n",
       "    .dataframe tbody tr th {\n",
       "        vertical-align: top;\n",
       "    }\n",
       "\n",
       "    .dataframe thead th {\n",
       "        text-align: right;\n",
       "    }\n",
       "</style>\n",
       "<table border=\"1\" class=\"dataframe\">\n",
       "  <thead>\n",
       "    <tr style=\"text-align: right;\">\n",
       "      <th></th>\n",
       "      <th>reconstruction_error</th>\n",
       "      <th>true_class</th>\n",
       "    </tr>\n",
       "  </thead>\n",
       "  <tbody>\n",
       "    <tr>\n",
       "      <th>count</th>\n",
       "      <td>270.000000</td>\n",
       "      <td>270.000000</td>\n",
       "    </tr>\n",
       "    <tr>\n",
       "      <th>mean</th>\n",
       "      <td>0.206527</td>\n",
       "      <td>0.292593</td>\n",
       "    </tr>\n",
       "    <tr>\n",
       "      <th>std</th>\n",
       "      <td>0.179535</td>\n",
       "      <td>0.455798</td>\n",
       "    </tr>\n",
       "    <tr>\n",
       "      <th>min</th>\n",
       "      <td>0.000000</td>\n",
       "      <td>0.000000</td>\n",
       "    </tr>\n",
       "    <tr>\n",
       "      <th>25%</th>\n",
       "      <td>0.090614</td>\n",
       "      <td>0.000000</td>\n",
       "    </tr>\n",
       "    <tr>\n",
       "      <th>50%</th>\n",
       "      <td>0.160932</td>\n",
       "      <td>0.000000</td>\n",
       "    </tr>\n",
       "    <tr>\n",
       "      <th>75%</th>\n",
       "      <td>0.268928</td>\n",
       "      <td>1.000000</td>\n",
       "    </tr>\n",
       "    <tr>\n",
       "      <th>max</th>\n",
       "      <td>1.000000</td>\n",
       "      <td>1.000000</td>\n",
       "    </tr>\n",
       "  </tbody>\n",
       "</table>\n",
       "</div>"
      ],
      "text/plain": [
       "       reconstruction_error  true_class\n",
       "count            270.000000  270.000000\n",
       "mean               0.206527    0.292593\n",
       "std                0.179535    0.455798\n",
       "min                0.000000    0.000000\n",
       "25%                0.090614    0.000000\n",
       "50%                0.160932    0.000000\n",
       "75%                0.268928    1.000000\n",
       "max                1.000000    1.000000"
      ]
     },
     "execution_count": 92,
     "metadata": {},
     "output_type": "execute_result"
    }
   ],
   "source": [
    "predictions = autoencoder.predict(X_valid)\n",
    "mse = np.mean(np.power(X_valid - predictions, 2), axis=(1, 2))\n",
    "\n",
    "print(np.min(mse), np.max(mse))\n",
    "\n",
    "mse_min = np.min(mse)\n",
    "mse_max = np.max(mse)\n",
    "\n",
    "mse_scaled = (mse - mse_min) / (mse_max - mse_min)\n",
    "mse = mse_scaled\n",
    "\n",
    "# print(X_valid.shape)\n",
    "# print(predictions.shape)\n",
    "# print(y_valid.shape)\n",
    "print(mse.max(), mse.min())\n",
    "\n",
    "error_df = pd.DataFrame({'reconstruction_error': mse, 'true_class': y_valid})\n",
    "\n",
    "error_df.describe()"
   ]
  },
  {
   "cell_type": "code",
   "execution_count": 93,
   "metadata": {},
   "outputs": [
    {
     "data": {
      "image/png": "[encoded data removed]",
      "text/plain": [
       "<Figure size 640x480 with 1 Axes>"
      ]
     },
     "metadata": {},
     "output_type": "display_data"
    }
   ],
   "source": [
    "fpr, tpr, thresholds = roc_curve(error_df.true_class, error_df.reconstruction_error)\n",
    "roc_auc = auc(fpr, tpr)\n",
    "\n",
    "plt.title('Receiver Operating Characteristic')\n",
    "plt.plot(fpr, tpr, label='AUC = %0.4f'% roc_auc)\n",
    "plt.legend(loc='lower right')\n",
    "plt.plot([0,1],[0,1],'r--')\n",
    "plt.xlim([-0.001, 1])\n",
    "plt.ylim([0, 1.001])\n",
    "plt.ylabel('True Positive Rate')\n",
    "plt.xlabel('False Positive Rate')\n",
    "plt.show()"
   ]
  },
  {
   "cell_type": "code",
   "execution_count": 94,
   "metadata": {},
   "outputs": [
    {
     "name": "stdout",
     "output_type": "stream",
     "text": [
      "threshold 0.05 recall 0.7848101265822784\n",
      "threshold 0.1 recall 0.6075949367088608\n",
      "threshold 0.2 recall 0.27848101265822783\n",
      "threshold 0.25 recall 0.20253164556962025\n",
      "threshold 0.3 recall 0.189873417721519\n",
      "threshold 0.4 recall 0.11392405063291139\n"
     ]
    }
   ],
   "source": [
    "threshold_list = [0.05, 0.1, 0.2, 0.25, 0.3, 0.4]\n",
    "\n",
    "for th in threshold_list:\n",
    "    threshold = th\n",
    "    y_pred = [1 if e > threshold else 0 for e in error_df.reconstruction_error.values]\n",
    "    conf_matrix = confusion_matrix(error_df.true_class, y_pred)\n",
    "\n",
    "    recall = recall_score(error_df.true_class, y_pred)\n",
    "\n",
    "    print('threshold', threshold, 'recall', recall)\n",
    "    # print(conf_matrix)\n",
    "    # plt.figure(figsize=(12, 12))\n",
    "    # sns.heatmap(conf_matrix, xticklabels=LABELS, yticklabels=LABELS, annot=True, fmt=\"d\")\n",
    "    # plt.title(\"Confusion matrix\")\n",
    "    # plt.ylabel('True class')\n",
    "    # plt.xlabel('Predicted class')\n",
    "    # plt.show()"
   ]
  },
  {
   "cell_type": "code",
   "execution_count": null,
   "metadata": {},
   "outputs": [],
   "source": []
  }
 ],
 "metadata": {
  "kernelspec": {
   "display_name": "Python 3",
   "language": "python",
   "name": "python3"
  },
  "language_info": {
   "codemirror_mode": {
    "name": "ipython",
    "version": 3
   },
   "file_extension": ".py",
   "mimetype": "text/x-python",
   "name": "python",
   "nbconvert_exporter": "python",
   "pygments_lexer": "ipython3",
   "version": "3.10.12"
  }
 },
 "nbformat": 4,
 "nbformat_minor": 2
}
